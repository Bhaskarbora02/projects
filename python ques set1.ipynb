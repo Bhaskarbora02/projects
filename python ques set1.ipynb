{
 "cells": [
  {
   "cell_type": "markdown",
   "id": "ad88aedf",
   "metadata": {},
   "source": [
    "# Python"
   ]
  },
  {
   "cell_type": "markdown",
   "id": "8fa37715",
   "metadata": {},
   "source": [
    "1.Write a program using list comprehension to find primes \n",
    "in range 2 to 100."
   ]
  },
  {
   "cell_type": "code",
   "execution_count": 1,
   "id": "bea63e85",
   "metadata": {},
   "outputs": [],
   "source": [
    "prime=[x for x in range(2, 100) if x>1 if all(x % y != 0 for y in range(2, x))]"
   ]
  },
  {
   "cell_type": "code",
   "execution_count": 3,
   "id": "258fc143",
   "metadata": {},
   "outputs": [
    {
     "name": "stdout",
     "output_type": "stream",
     "text": [
      "[2, 3, 5, 7, 11, 13, 17, 19, 23, 29, 31, 37, 41, 43, 47, 53, 59, 61, 67, 71, 73, 79, 83, 89, 97]\n"
     ]
    }
   ],
   "source": [
    "print(prime)"
   ]
  },
  {
   "cell_type": "markdown",
   "id": "018a2d33",
   "metadata": {},
   "source": [
    "2.Write a function to reverse a string"
   ]
  },
  {
   "cell_type": "markdown",
   "id": "50a6925b",
   "metadata": {},
   "source": [
    "string='reverse a string'"
   ]
  },
  {
   "cell_type": "code",
   "execution_count": 8,
   "id": "3c8bd885",
   "metadata": {},
   "outputs": [],
   "source": [
    "def rev(st):\n",
    "    return s[::-1]\n",
    "s=\"reverse a string\""
   ]
  },
  {
   "cell_type": "code",
   "execution_count": 9,
   "id": "b11433f9",
   "metadata": {},
   "outputs": [
    {
     "name": "stdout",
     "output_type": "stream",
     "text": [
      "gnirts a esrever\n"
     ]
    }
   ],
   "source": [
    "print(rev(s))"
   ]
  },
  {
   "cell_type": "markdown",
   "id": "493b9f78",
   "metadata": {},
   "source": [
    "3.Write a program to extract the words from the given list which have their first character in uppercase. Days = ['Monday', 'tuesday','friday', 'Sunday', 'Saturday']\n",
    "\n",
    "Output: ['Monday', 'Sunday', 'Saturday'"
   ]
  },
  {
   "cell_type": "code",
   "execution_count": 11,
   "id": "0d1f9d90",
   "metadata": {},
   "outputs": [],
   "source": [
    "Days = ['Monday', 'tuesday','friday', 'Sunday', 'Saturday']\n",
    "out=[]\n",
    "for i in Days:\n",
    "    if  i.istitle():\n",
    "        out.append(i)"
   ]
  },
  {
   "cell_type": "code",
   "execution_count": 12,
   "id": "0ccf1f94",
   "metadata": {},
   "outputs": [
    {
     "name": "stdout",
     "output_type": "stream",
     "text": [
      "['Monday', 'Sunday', 'Saturday']\n"
     ]
    }
   ],
   "source": [
    "print(out)"
   ]
  },
  {
   "cell_type": "markdown",
   "id": "094d948f",
   "metadata": {},
   "source": [
    "4.Write a program to extract the year part from the dates in \n",
    "the given list.\n",
    "\n",
    "Batch = ['15-06-1997','15-06-2011','15-06-1993','15-06-2020']\n",
    "\n",
    "Output: ['1997','2011','1993','2020']"
   ]
  },
  {
   "cell_type": "code",
   "execution_count": 51,
   "id": "e3e68727",
   "metadata": {},
   "outputs": [],
   "source": [
    "Batch = ['15-06-1997','15-06-2011','15-06-1993','15-06-2020']\n",
    "out=[]\n",
    "#outt=[]"
   ]
  },
  {
   "cell_type": "code",
   "execution_count": 52,
   "id": "b0da4724",
   "metadata": {},
   "outputs": [],
   "source": [
    "for i in Batch:\n",
    "    j=i[6:]\n",
    "    out.append(j)"
   ]
  },
  {
   "cell_type": "code",
   "execution_count": 29,
   "id": "66e49b56",
   "metadata": {},
   "outputs": [],
   "source": [
    "#for i in Batch:\n",
    "#    j=i[-4::]\n",
    "#    outt.append(j)"
   ]
  },
  {
   "cell_type": "code",
   "execution_count": 53,
   "id": "abf61204",
   "metadata": {},
   "outputs": [
    {
     "name": "stdout",
     "output_type": "stream",
     "text": [
      "['1997', '2011', '1993', '2020']\n"
     ]
    }
   ],
   "source": [
    "#print(outt)\n",
    "print(out)"
   ]
  },
  {
   "cell_type": "markdown",
   "id": "3fc0632a",
   "metadata": {},
   "source": [
    "5.Write a program swap the keys to values and values to keys of the given dictionary. \n",
    "\n",
    "Module = {'Data Science':1,'Machine Learning':2, 'SQL':3, 'Big Data':4} \n",
    "\n",
    "Output: {1:'Data Science',2:'Machine Learning', 3:'SQL', 4:'Big Data'}"
   ]
  },
  {
   "cell_type": "code",
   "execution_count": 48,
   "id": "84f82c00",
   "metadata": {},
   "outputs": [],
   "source": [
    "Module = {'Data Science':1,'Machine Learning':2, 'SQL':3, 'Big Data':4}\n",
    "new_m={}\n",
    "#new_j={}"
   ]
  },
  {
   "cell_type": "code",
   "execution_count": 49,
   "id": "5cc13440",
   "metadata": {},
   "outputs": [],
   "source": [
    "for i in Module.items():\n",
    "    new_m[i[1]]=i[0]"
   ]
  },
  {
   "cell_type": "code",
   "execution_count": 45,
   "id": "3ec8f75f",
   "metadata": {},
   "outputs": [],
   "source": [
    "#for i,j in Module.items():\n",
    "#    new_j.update({j:i})\n",
    "    \n",
    "#print(new_j)    "
   ]
  },
  {
   "cell_type": "code",
   "execution_count": 50,
   "id": "6bcda571",
   "metadata": {},
   "outputs": [
    {
     "name": "stdout",
     "output_type": "stream",
     "text": [
      "{1: 'Data Science', 2: 'Machine Learning', 3: 'SQL', 4: 'Big Data'}\n"
     ]
    }
   ],
   "source": [
    "print(new_m)"
   ]
  },
  {
   "cell_type": "markdown",
   "id": "99c46d7d",
   "metadata": {},
   "source": [
    "6.Write a program to count the number of elements in the string (given by the user) that are not present in the 'my_string'. \n",
    "\n",
    "Do not count the white spaces.\n",
    "\n",
    "my_string = 'Data Science'"
   ]
  },
  {
   "cell_type": "code",
   "execution_count": 54,
   "id": "2ccb7584",
   "metadata": {},
   "outputs": [
    {
     "name": "stdout",
     "output_type": "stream",
     "text": [
      "Enter any String : bhaskar bora \n"
     ]
    }
   ],
   "source": [
    "my_string = 'Data Science'\n",
    "strr=input(\"Enter any String : \")\n",
    "new_str=strr.replace(\" \",\"\")\n",
    "a=0"
   ]
  },
  {
   "cell_type": "code",
   "execution_count": 55,
   "id": "d54d0b60",
   "metadata": {},
   "outputs": [],
   "source": [
    "for i in new_str.lower():\n",
    "    if i not in my_string.lower():\n",
    "        a=a+1"
   ]
  },
  {
   "cell_type": "code",
   "execution_count": 56,
   "id": "b06572fa",
   "metadata": {},
   "outputs": [
    {
     "name": "stdout",
     "output_type": "stream",
     "text": [
      "7\n"
     ]
    }
   ],
   "source": [
    "print(a)"
   ]
  },
  {
   "cell_type": "markdown",
   "id": "9d8337ba",
   "metadata": {},
   "source": [
    "7.Define a function to check whether a number is in a range (1000,10000) or not."
   ]
  },
  {
   "cell_type": "code",
   "execution_count": 57,
   "id": "e3a1c4ae",
   "metadata": {},
   "outputs": [],
   "source": [
    "def check(n):\n",
    "    if n>=1000 and n<=10000:\n",
    "        print(\"In Range\")\n",
    "    else:\n",
    "        print(\"Not In Range\")"
   ]
  },
  {
   "cell_type": "code",
   "execution_count": 58,
   "id": "6a506a99",
   "metadata": {},
   "outputs": [
    {
     "name": "stdout",
     "output_type": "stream",
     "text": [
      "In Range\n"
     ]
    }
   ],
   "source": [
    "check(9999)"
   ]
  },
  {
   "cell_type": "code",
   "execution_count": null,
   "id": "41f91ddd",
   "metadata": {},
   "outputs": [],
   "source": []
  },
  {
   "cell_type": "markdown",
   "id": "79ecb88b",
   "metadata": {},
   "source": [
    "8.Write a program to calculate the sum of all elements in the list.\n",
    "\n",
    "test_score = [10, 32, 23, 14, 25]"
   ]
  },
  {
   "cell_type": "code",
   "execution_count": 59,
   "id": "966743cc",
   "metadata": {},
   "outputs": [],
   "source": [
    "test_score = [10, 32, 23, 14, 25]\n",
    "total=0"
   ]
  },
  {
   "cell_type": "code",
   "execution_count": 60,
   "id": "90d834f1",
   "metadata": {},
   "outputs": [],
   "source": [
    "for i in test_score:\n",
    "    total=total+i"
   ]
  },
  {
   "cell_type": "code",
   "execution_count": 61,
   "id": "d39b37a2",
   "metadata": {},
   "outputs": [
    {
     "name": "stdout",
     "output_type": "stream",
     "text": [
      "104\n"
     ]
    }
   ],
   "source": [
    "print(total)"
   ]
  },
  {
   "cell_type": "markdown",
   "id": "d083692d",
   "metadata": {},
   "source": [
    "9.Replace all even numbers in the array with -1.\n",
    "\n",
    "Use the array given below num_array = np.array([0, 21, 32, 13, 44, 45, 26, 28, 38, 34, 65, 48, 76])"
   ]
  },
  {
   "cell_type": "code",
   "execution_count": 6,
   "id": "642b1a65",
   "metadata": {},
   "outputs": [],
   "source": [
    "import numpy as np\n",
    "num_array = np.array([0, 21, 32, 13, 44, 45, 26, 28, 38, 34, 65, 48, 76])"
   ]
  },
  {
   "cell_type": "code",
   "execution_count": 7,
   "id": "7c21367b",
   "metadata": {},
   "outputs": [],
   "source": [
    "num_array[num_array%2 == 0] = -1 "
   ]
  },
  {
   "cell_type": "code",
   "execution_count": 8,
   "id": "e954b0b8",
   "metadata": {},
   "outputs": [
    {
     "data": {
      "text/plain": [
       "array([-1, 21, -1, 13, -1, 45, -1, -1, -1, -1, 65, -1, -1])"
      ]
     },
     "execution_count": 8,
     "metadata": {},
     "output_type": "execute_result"
    }
   ],
   "source": [
    "num_array"
   ]
  },
  {
   "cell_type": "markdown",
   "id": "2e36cc99",
   "metadata": {},
   "source": [
    "10.Find the minimum value along each of the rows. \n",
    "\n",
    "Create a 2D Numpy array from list of lists \n",
    "\n",
    "Score = np.array([[210, 402, 383], [140, 375, 106], [140, 125, 217], [292, 240, 295]])"
   ]
  },
  {
   "cell_type": "code",
   "execution_count": 9,
   "id": "a08b0b0e",
   "metadata": {},
   "outputs": [],
   "source": [
    "Score = np.array([[210, 402, 383], [140, 375, 106], [140, 125, 217], [292, 240, 295]])\n"
   ]
  },
  {
   "cell_type": "code",
   "execution_count": 10,
   "id": "97ce92c2",
   "metadata": {},
   "outputs": [
    {
     "data": {
      "text/plain": [
       "array([[210, 402, 383],\n",
       "       [140, 375, 106],\n",
       "       [140, 125, 217],\n",
       "       [292, 240, 295]])"
      ]
     },
     "execution_count": 10,
     "metadata": {},
     "output_type": "execute_result"
    }
   ],
   "source": [
    "Score"
   ]
  },
  {
   "cell_type": "code",
   "execution_count": 11,
   "id": "d41451b4",
   "metadata": {},
   "outputs": [
    {
     "data": {
      "text/plain": [
       "array([210, 106, 125, 240])"
      ]
     },
     "execution_count": 11,
     "metadata": {},
     "output_type": "execute_result"
    }
   ],
   "source": [
    "Score.min(axis=1)"
   ]
  },
  {
   "cell_type": "code",
   "execution_count": 12,
   "id": "74162989",
   "metadata": {},
   "outputs": [
    {
     "name": "stdout",
     "output_type": "stream",
     "text": [
      "[[210 402 383 140 375 106]\n",
      " [140 125 217 292 240 295]]\n",
      "2\n"
     ]
    }
   ],
   "source": [
    "Score = Score.reshape(2,6)\n",
    "print(Score)\n",
    "print(Score.ndim)"
   ]
  },
  {
   "cell_type": "code",
   "execution_count": null,
   "id": "02728d45",
   "metadata": {},
   "outputs": [],
   "source": []
  }
 ],
 "metadata": {
  "kernelspec": {
   "display_name": "Python 3 (ipykernel)",
   "language": "python",
   "name": "python3"
  },
  "language_info": {
   "codemirror_mode": {
    "name": "ipython",
    "version": 3
   },
   "file_extension": ".py",
   "mimetype": "text/x-python",
   "name": "python",
   "nbconvert_exporter": "python",
   "pygments_lexer": "ipython3",
   "version": "3.9.7"
  }
 },
 "nbformat": 4,
 "nbformat_minor": 5
}
